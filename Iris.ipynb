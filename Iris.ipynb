{
 "cells": [
  {
   "cell_type": "code",
   "execution_count": 1,
   "id": "2e15ed96",
   "metadata": {},
   "outputs": [],
   "source": [
    "import pandas as pd \n",
    "import numpy as np "
   ]
  },
  {
   "cell_type": "code",
   "execution_count": 2,
   "id": "71d7b183",
   "metadata": {},
   "outputs": [
    {
     "data": {
      "text/html": [
       "<div>\n",
       "<style scoped>\n",
       "    .dataframe tbody tr th:only-of-type {\n",
       "        vertical-align: middle;\n",
       "    }\n",
       "\n",
       "    .dataframe tbody tr th {\n",
       "        vertical-align: top;\n",
       "    }\n",
       "\n",
       "    .dataframe thead th {\n",
       "        text-align: right;\n",
       "    }\n",
       "</style>\n",
       "<table border=\"1\" class=\"dataframe\">\n",
       "  <thead>\n",
       "    <tr style=\"text-align: right;\">\n",
       "      <th></th>\n",
       "      <th>Id</th>\n",
       "      <th>SepalLengthCm</th>\n",
       "      <th>SepalWidthCm</th>\n",
       "      <th>PetalLengthCm</th>\n",
       "      <th>PetalWidthCm</th>\n",
       "      <th>Species</th>\n",
       "    </tr>\n",
       "  </thead>\n",
       "  <tbody>\n",
       "    <tr>\n",
       "      <th>0</th>\n",
       "      <td>1</td>\n",
       "      <td>5.1</td>\n",
       "      <td>3.5</td>\n",
       "      <td>1.4</td>\n",
       "      <td>0.2</td>\n",
       "      <td>Iris-setosa</td>\n",
       "    </tr>\n",
       "    <tr>\n",
       "      <th>1</th>\n",
       "      <td>2</td>\n",
       "      <td>4.9</td>\n",
       "      <td>3.0</td>\n",
       "      <td>1.4</td>\n",
       "      <td>0.2</td>\n",
       "      <td>Iris-setosa</td>\n",
       "    </tr>\n",
       "    <tr>\n",
       "      <th>2</th>\n",
       "      <td>3</td>\n",
       "      <td>4.7</td>\n",
       "      <td>3.2</td>\n",
       "      <td>1.3</td>\n",
       "      <td>0.2</td>\n",
       "      <td>Iris-setosa</td>\n",
       "    </tr>\n",
       "    <tr>\n",
       "      <th>3</th>\n",
       "      <td>4</td>\n",
       "      <td>4.6</td>\n",
       "      <td>3.1</td>\n",
       "      <td>1.5</td>\n",
       "      <td>0.2</td>\n",
       "      <td>Iris-setosa</td>\n",
       "    </tr>\n",
       "    <tr>\n",
       "      <th>4</th>\n",
       "      <td>5</td>\n",
       "      <td>5.0</td>\n",
       "      <td>3.6</td>\n",
       "      <td>1.4</td>\n",
       "      <td>0.2</td>\n",
       "      <td>Iris-setosa</td>\n",
       "    </tr>\n",
       "  </tbody>\n",
       "</table>\n",
       "</div>"
      ],
      "text/plain": [
       "   Id  SepalLengthCm  SepalWidthCm  PetalLengthCm  PetalWidthCm      Species\n",
       "0   1            5.1           3.5            1.4           0.2  Iris-setosa\n",
       "1   2            4.9           3.0            1.4           0.2  Iris-setosa\n",
       "2   3            4.7           3.2            1.3           0.2  Iris-setosa\n",
       "3   4            4.6           3.1            1.5           0.2  Iris-setosa\n",
       "4   5            5.0           3.6            1.4           0.2  Iris-setosa"
      ]
     },
     "execution_count": 2,
     "metadata": {},
     "output_type": "execute_result"
    }
   ],
   "source": [
    "df = pd.read_csv('Iris.csv')\n",
    "df.head()"
   ]
  },
  {
   "cell_type": "markdown",
   "id": "77c3e7b9",
   "metadata": {},
   "source": [
    "# In ra chiều dài đài hoa lớn nhất của 10 bông hoa mỗi loại"
   ]
  },
  {
   "cell_type": "code",
   "execution_count": 3,
   "id": "77a61223",
   "metadata": {},
   "outputs": [
    {
     "data": {
      "text/plain": [
       "Iris-setosa        50\n",
       "Iris-versicolor    50\n",
       "Iris-virginica     50\n",
       "Name: Species, dtype: int64"
      ]
     },
     "execution_count": 3,
     "metadata": {},
     "output_type": "execute_result"
    }
   ],
   "source": [
    "df['Species'].value_counts()"
   ]
  },
  {
   "cell_type": "code",
   "execution_count": 4,
   "id": "02b6e490",
   "metadata": {},
   "outputs": [],
   "source": [
    "lst_setosa = []\n",
    "lst_versicolor = []\n",
    "lst_virginica = []\n",
    "for i in range(150):\n",
    "    if(df['Species'][i] == 'Iris-setosa'):\n",
    "        lst_setosa.append(df['SepalLengthCm'][i])\n",
    "    elif(df['Species'][i] == 'Iris-versicolor'):\n",
    "        lst_versicolor.append(df['SepalLengthCm'][i])\n",
    "    else:\n",
    "        lst_virginica.append(df['SepalLengthCm'][i])\n",
    "# Sắp xếp list theo thứ tự giảm dần\n",
    "lst_setosa.sort(reverse = True)\n",
    "lst_versicolor.sort(reverse = True)\n",
    "lst_virginica.sort(reverse = True)"
   ]
  },
  {
   "cell_type": "code",
   "execution_count": 5,
   "id": "e43a74b6",
   "metadata": {},
   "outputs": [
    {
     "name": "stdout",
     "output_type": "stream",
     "text": [
      "\t Top 10 chiều dài đài hoa lớn nhất trong Iris-setosa:\n",
      "5.8\n",
      "5.7\n",
      "5.7\n",
      "5.5\n",
      "5.5\n",
      "5.4\n",
      "5.4\n",
      "5.4\n",
      "5.4\n",
      "5.4\n",
      "\t Top 10 chiều dài đài hoa lớn nhất trong Iris-versicolor:\n",
      "7.0\n",
      "6.9\n",
      "6.8\n",
      "6.7\n",
      "6.7\n",
      "6.7\n",
      "6.6\n",
      "6.6\n",
      "6.5\n",
      "6.4\n",
      "\t Top 10 chiều dài đài hoa lớn nhất trong Iris-virginica:\n",
      "7.9\n",
      "7.7\n",
      "7.7\n",
      "7.7\n",
      "7.7\n",
      "7.6\n",
      "7.4\n",
      "7.3\n",
      "7.2\n",
      "7.2\n"
     ]
    }
   ],
   "source": [
    "print(\"\\t Top 10 chiều dài đài hoa lớn nhất trong Iris-setosa:\")\n",
    "for i in range(10):\n",
    "    print(lst_setosa[i])\n",
    "\n",
    "print(\"\\t Top 10 chiều dài đài hoa lớn nhất trong Iris-versicolor:\")\n",
    "for i in range(10):\n",
    "    print(lst_versicolor[i])\n",
    "    \n",
    "print(\"\\t Top 10 chiều dài đài hoa lớn nhất trong Iris-virginica:\")\n",
    "for i in range(10):\n",
    "    print(lst_virginica[i])"
   ]
  },
  {
   "cell_type": "markdown",
   "id": "632b745b",
   "metadata": {},
   "source": [
    "# Thống kê trong 50 bông hoa có tổng chiều dài và chiều rộng lớn nhất , bao nhiêu bông hoa thuộc về từng loài"
   ]
  },
  {
   "cell_type": "code",
   "execution_count": 6,
   "id": "7a125e9a",
   "metadata": {},
   "outputs": [
    {
     "data": {
      "text/html": [
       "<div>\n",
       "<style scoped>\n",
       "    .dataframe tbody tr th:only-of-type {\n",
       "        vertical-align: middle;\n",
       "    }\n",
       "\n",
       "    .dataframe tbody tr th {\n",
       "        vertical-align: top;\n",
       "    }\n",
       "\n",
       "    .dataframe thead th {\n",
       "        text-align: right;\n",
       "    }\n",
       "</style>\n",
       "<table border=\"1\" class=\"dataframe\">\n",
       "  <thead>\n",
       "    <tr style=\"text-align: right;\">\n",
       "      <th></th>\n",
       "      <th>Id</th>\n",
       "      <th>SepalLengthCm</th>\n",
       "      <th>SepalWidthCm</th>\n",
       "      <th>PetalLengthCm</th>\n",
       "      <th>PetalWidthCm</th>\n",
       "      <th>Species</th>\n",
       "      <th>df_DR</th>\n",
       "    </tr>\n",
       "  </thead>\n",
       "  <tbody>\n",
       "    <tr>\n",
       "      <th>0</th>\n",
       "      <td>1</td>\n",
       "      <td>5.1</td>\n",
       "      <td>3.5</td>\n",
       "      <td>1.4</td>\n",
       "      <td>0.2</td>\n",
       "      <td>Iris-setosa</td>\n",
       "      <td>8.6</td>\n",
       "    </tr>\n",
       "    <tr>\n",
       "      <th>1</th>\n",
       "      <td>2</td>\n",
       "      <td>4.9</td>\n",
       "      <td>3.0</td>\n",
       "      <td>1.4</td>\n",
       "      <td>0.2</td>\n",
       "      <td>Iris-setosa</td>\n",
       "      <td>7.9</td>\n",
       "    </tr>\n",
       "    <tr>\n",
       "      <th>2</th>\n",
       "      <td>3</td>\n",
       "      <td>4.7</td>\n",
       "      <td>3.2</td>\n",
       "      <td>1.3</td>\n",
       "      <td>0.2</td>\n",
       "      <td>Iris-setosa</td>\n",
       "      <td>7.9</td>\n",
       "    </tr>\n",
       "    <tr>\n",
       "      <th>3</th>\n",
       "      <td>4</td>\n",
       "      <td>4.6</td>\n",
       "      <td>3.1</td>\n",
       "      <td>1.5</td>\n",
       "      <td>0.2</td>\n",
       "      <td>Iris-setosa</td>\n",
       "      <td>7.7</td>\n",
       "    </tr>\n",
       "    <tr>\n",
       "      <th>4</th>\n",
       "      <td>5</td>\n",
       "      <td>5.0</td>\n",
       "      <td>3.6</td>\n",
       "      <td>1.4</td>\n",
       "      <td>0.2</td>\n",
       "      <td>Iris-setosa</td>\n",
       "      <td>8.6</td>\n",
       "    </tr>\n",
       "  </tbody>\n",
       "</table>\n",
       "</div>"
      ],
      "text/plain": [
       "   Id  SepalLengthCm  SepalWidthCm  PetalLengthCm  PetalWidthCm      Species  \\\n",
       "0   1            5.1           3.5            1.4           0.2  Iris-setosa   \n",
       "1   2            4.9           3.0            1.4           0.2  Iris-setosa   \n",
       "2   3            4.7           3.2            1.3           0.2  Iris-setosa   \n",
       "3   4            4.6           3.1            1.5           0.2  Iris-setosa   \n",
       "4   5            5.0           3.6            1.4           0.2  Iris-setosa   \n",
       "\n",
       "   df_DR  \n",
       "0    8.6  \n",
       "1    7.9  \n",
       "2    7.9  \n",
       "3    7.7  \n",
       "4    8.6  "
      ]
     },
     "execution_count": 6,
     "metadata": {},
     "output_type": "execute_result"
    }
   ],
   "source": [
    "df['df_DR'] = df['SepalLengthCm'] + df['SepalWidthCm']\n",
    "df.head()"
   ]
  },
  {
   "cell_type": "code",
   "execution_count": 7,
   "id": "d6094a14",
   "metadata": {},
   "outputs": [
    {
     "data": {
      "text/html": [
       "<div>\n",
       "<style scoped>\n",
       "    .dataframe tbody tr th:only-of-type {\n",
       "        vertical-align: middle;\n",
       "    }\n",
       "\n",
       "    .dataframe tbody tr th {\n",
       "        vertical-align: top;\n",
       "    }\n",
       "\n",
       "    .dataframe thead th {\n",
       "        text-align: right;\n",
       "    }\n",
       "</style>\n",
       "<table border=\"1\" class=\"dataframe\">\n",
       "  <thead>\n",
       "    <tr style=\"text-align: right;\">\n",
       "      <th></th>\n",
       "      <th>Id</th>\n",
       "      <th>SepalLengthCm</th>\n",
       "      <th>SepalWidthCm</th>\n",
       "      <th>PetalLengthCm</th>\n",
       "      <th>PetalWidthCm</th>\n",
       "      <th>Species</th>\n",
       "      <th>df_DR</th>\n",
       "    </tr>\n",
       "  </thead>\n",
       "  <tbody>\n",
       "    <tr>\n",
       "      <th>131</th>\n",
       "      <td>132</td>\n",
       "      <td>7.9</td>\n",
       "      <td>3.8</td>\n",
       "      <td>6.4</td>\n",
       "      <td>2.0</td>\n",
       "      <td>Iris-virginica</td>\n",
       "      <td>11.7</td>\n",
       "    </tr>\n",
       "    <tr>\n",
       "      <th>117</th>\n",
       "      <td>118</td>\n",
       "      <td>7.7</td>\n",
       "      <td>3.8</td>\n",
       "      <td>6.7</td>\n",
       "      <td>2.2</td>\n",
       "      <td>Iris-virginica</td>\n",
       "      <td>11.5</td>\n",
       "    </tr>\n",
       "    <tr>\n",
       "      <th>109</th>\n",
       "      <td>110</td>\n",
       "      <td>7.2</td>\n",
       "      <td>3.6</td>\n",
       "      <td>6.1</td>\n",
       "      <td>2.5</td>\n",
       "      <td>Iris-virginica</td>\n",
       "      <td>10.8</td>\n",
       "    </tr>\n",
       "    <tr>\n",
       "      <th>135</th>\n",
       "      <td>136</td>\n",
       "      <td>7.7</td>\n",
       "      <td>3.0</td>\n",
       "      <td>6.1</td>\n",
       "      <td>2.3</td>\n",
       "      <td>Iris-virginica</td>\n",
       "      <td>10.7</td>\n",
       "    </tr>\n",
       "    <tr>\n",
       "      <th>105</th>\n",
       "      <td>106</td>\n",
       "      <td>7.6</td>\n",
       "      <td>3.0</td>\n",
       "      <td>6.6</td>\n",
       "      <td>2.1</td>\n",
       "      <td>Iris-virginica</td>\n",
       "      <td>10.6</td>\n",
       "    </tr>\n",
       "  </tbody>\n",
       "</table>\n",
       "</div>"
      ],
      "text/plain": [
       "      Id  SepalLengthCm  SepalWidthCm  PetalLengthCm  PetalWidthCm  \\\n",
       "131  132            7.9           3.8            6.4           2.0   \n",
       "117  118            7.7           3.8            6.7           2.2   \n",
       "109  110            7.2           3.6            6.1           2.5   \n",
       "135  136            7.7           3.0            6.1           2.3   \n",
       "105  106            7.6           3.0            6.6           2.1   \n",
       "\n",
       "            Species  df_DR  \n",
       "131  Iris-virginica   11.7  \n",
       "117  Iris-virginica   11.5  \n",
       "109  Iris-virginica   10.8  \n",
       "135  Iris-virginica   10.7  \n",
       "105  Iris-virginica   10.6  "
      ]
     },
     "execution_count": 7,
     "metadata": {},
     "output_type": "execute_result"
    }
   ],
   "source": [
    "df = df.sort_values(by = ['df_DR'] , ascending=False)\n",
    "df.head()"
   ]
  },
  {
   "cell_type": "code",
   "execution_count": 8,
   "id": "f2c3f5b4",
   "metadata": {},
   "outputs": [
    {
     "data": {
      "text/html": [
       "<div>\n",
       "<style scoped>\n",
       "    .dataframe tbody tr th:only-of-type {\n",
       "        vertical-align: middle;\n",
       "    }\n",
       "\n",
       "    .dataframe tbody tr th {\n",
       "        vertical-align: top;\n",
       "    }\n",
       "\n",
       "    .dataframe thead th {\n",
       "        text-align: right;\n",
       "    }\n",
       "</style>\n",
       "<table border=\"1\" class=\"dataframe\">\n",
       "  <thead>\n",
       "    <tr style=\"text-align: right;\">\n",
       "      <th></th>\n",
       "      <th>Species</th>\n",
       "      <th>df_DR</th>\n",
       "    </tr>\n",
       "  </thead>\n",
       "  <tbody>\n",
       "    <tr>\n",
       "      <th>131</th>\n",
       "      <td>Iris-virginica</td>\n",
       "      <td>11.7</td>\n",
       "    </tr>\n",
       "    <tr>\n",
       "      <th>117</th>\n",
       "      <td>Iris-virginica</td>\n",
       "      <td>11.5</td>\n",
       "    </tr>\n",
       "    <tr>\n",
       "      <th>109</th>\n",
       "      <td>Iris-virginica</td>\n",
       "      <td>10.8</td>\n",
       "    </tr>\n",
       "    <tr>\n",
       "      <th>135</th>\n",
       "      <td>Iris-virginica</td>\n",
       "      <td>10.7</td>\n",
       "    </tr>\n",
       "    <tr>\n",
       "      <th>105</th>\n",
       "      <td>Iris-virginica</td>\n",
       "      <td>10.6</td>\n",
       "    </tr>\n",
       "  </tbody>\n",
       "</table>\n",
       "</div>"
      ],
      "text/plain": [
       "            Species  df_DR\n",
       "131  Iris-virginica   11.7\n",
       "117  Iris-virginica   11.5\n",
       "109  Iris-virginica   10.8\n",
       "135  Iris-virginica   10.7\n",
       "105  Iris-virginica   10.6"
      ]
     },
     "execution_count": 8,
     "metadata": {},
     "output_type": "execute_result"
    }
   ],
   "source": [
    "df_temp = df[['Species' , 'df_DR']]\n",
    "df_temp.head()"
   ]
  },
  {
   "cell_type": "code",
   "execution_count": 9,
   "id": "6aa80658",
   "metadata": {},
   "outputs": [],
   "source": [
    "df_temp = df_temp.iloc[:50]"
   ]
  },
  {
   "cell_type": "code",
   "execution_count": 10,
   "id": "9d9d5749",
   "metadata": {},
   "outputs": [
    {
     "data": {
      "text/plain": [
       "Species\n",
       "Iris-setosa         7\n",
       "Iris-versicolor    13\n",
       "Iris-virginica     30\n",
       "Name: df_DR, dtype: int64"
      ]
     },
     "execution_count": 10,
     "metadata": {},
     "output_type": "execute_result"
    }
   ],
   "source": [
    "df_temp.groupby('Species').count()['df_DR']"
   ]
  },
  {
   "cell_type": "markdown",
   "id": "3b35feae",
   "metadata": {},
   "source": [
    "# Nhập input đầu vào là 2 thông số dài và rộng. Xác định xem đó thuộc loại hoa nào:\n",
    "1. Điểm có tọa độ gần nó nhất"
   ]
  },
  {
   "cell_type": "code",
   "execution_count": 11,
   "id": "d204cd95",
   "metadata": {},
   "outputs": [
    {
     "name": "stdout",
     "output_type": "stream",
     "text": [
      "Hoành độ: 2.5\n",
      "Tung độ: 2.6\n"
     ]
    }
   ],
   "source": [
    "point = [] # tọa độ điểm đang xét\n",
    "x = float(input(\"Hoành độ: \"))\n",
    "y = float(input(\"Tung độ: \"))\n",
    "point.append([x,y])"
   ]
  },
  {
   "cell_type": "code",
   "execution_count": 12,
   "id": "61baaa46",
   "metadata": {},
   "outputs": [
    {
     "data": {
      "text/plain": [
       "[[2.5, 2.6]]"
      ]
     },
     "execution_count": 12,
     "metadata": {},
     "output_type": "execute_result"
    }
   ],
   "source": [
    "point"
   ]
  },
  {
   "cell_type": "code",
   "execution_count": 13,
   "id": "9ed1b8c0",
   "metadata": {},
   "outputs": [],
   "source": [
    "lst_setosa = []\n",
    "lst_versicolor = []\n",
    "lst_virginica = []\n",
    "\n",
    "for i in range(150):\n",
    "    if df['Species'][i] == 'Iris-setosa':\n",
    "        lst_setosa.append([df['SepalLengthCm'][i] , df['SepalWidthCm'][i]])\n",
    "    elif df['Species'][i] == 'Iris-versicolor':\n",
    "        lst_versicolor.append([df['SepalLengthCm'][i] , df['SepalWidthCm'][i]])\n",
    "    else: lst_virginica.append([df['SepalLengthCm'][i] , df['SepalWidthCm'][i]])"
   ]
  },
  {
   "cell_type": "code",
   "execution_count": 14,
   "id": "626b074b",
   "metadata": {},
   "outputs": [
    {
     "name": "stdout",
     "output_type": "stream",
     "text": [
      "[[5.1, 3.5], [4.9, 3.0], [4.7, 3.2], [4.6, 3.1], [5.0, 3.6], [5.4, 3.9], [4.6, 3.4], [5.0, 3.4], [4.4, 2.9], [4.9, 3.1], [5.4, 3.7], [4.8, 3.4], [4.8, 3.0], [4.3, 3.0], [5.8, 4.0], [5.7, 4.4], [5.4, 3.9], [5.1, 3.5], [5.7, 3.8], [5.1, 3.8], [5.4, 3.4], [5.1, 3.7], [4.6, 3.6], [5.1, 3.3], [4.8, 3.4], [5.0, 3.0], [5.0, 3.4], [5.2, 3.5], [5.2, 3.4], [4.7, 3.2], [4.8, 3.1], [5.4, 3.4], [5.2, 4.1], [5.5, 4.2], [4.9, 3.1], [5.0, 3.2], [5.5, 3.5], [4.9, 3.1], [4.4, 3.0], [5.1, 3.4], [5.0, 3.5], [4.5, 2.3], [4.4, 3.2], [5.0, 3.5], [5.1, 3.8], [4.8, 3.0], [5.1, 3.8], [4.6, 3.2], [5.3, 3.7], [5.0, 3.3]]\n",
      "\n",
      "\n",
      "\n",
      "[[7.0, 3.2], [6.4, 3.2], [6.9, 3.1], [5.5, 2.3], [6.5, 2.8], [5.7, 2.8], [6.3, 3.3], [4.9, 2.4], [6.6, 2.9], [5.2, 2.7], [5.0, 2.0], [5.9, 3.0], [6.0, 2.2], [6.1, 2.9], [5.6, 2.9], [6.7, 3.1], [5.6, 3.0], [5.8, 2.7], [6.2, 2.2], [5.6, 2.5], [5.9, 3.2], [6.1, 2.8], [6.3, 2.5], [6.1, 2.8], [6.4, 2.9], [6.6, 3.0], [6.8, 2.8], [6.7, 3.0], [6.0, 2.9], [5.7, 2.6], [5.5, 2.4], [5.5, 2.4], [5.8, 2.7], [6.0, 2.7], [5.4, 3.0], [6.0, 3.4], [6.7, 3.1], [6.3, 2.3], [5.6, 3.0], [5.5, 2.5], [5.5, 2.6], [6.1, 3.0], [5.8, 2.6], [5.0, 2.3], [5.6, 2.7], [5.7, 3.0], [5.7, 2.9], [6.2, 2.9], [5.1, 2.5], [5.7, 2.8]]\n",
      "\n",
      "\n",
      "\n",
      "[[6.3, 3.3], [5.8, 2.7], [7.1, 3.0], [6.3, 2.9], [6.5, 3.0], [7.6, 3.0], [4.9, 2.5], [7.3, 2.9], [6.7, 2.5], [7.2, 3.6], [6.5, 3.2], [6.4, 2.7], [6.8, 3.0], [5.7, 2.5], [5.8, 2.8], [6.4, 3.2], [6.5, 3.0], [7.7, 3.8], [7.7, 2.6], [6.0, 2.2], [6.9, 3.2], [5.6, 2.8], [7.7, 2.8], [6.3, 2.7], [6.7, 3.3], [7.2, 3.2], [6.2, 2.8], [6.1, 3.0], [6.4, 2.8], [7.2, 3.0], [7.4, 2.8], [7.9, 3.8], [6.4, 2.8], [6.3, 2.8], [6.1, 2.6], [7.7, 3.0], [6.3, 3.4], [6.4, 3.1], [6.0, 3.0], [6.9, 3.1], [6.7, 3.1], [6.9, 3.1], [5.8, 2.7], [6.8, 3.2], [6.7, 3.3], [6.7, 3.0], [6.3, 2.5], [6.5, 3.0], [6.2, 3.4], [5.9, 3.0]]\n"
     ]
    }
   ],
   "source": [
    "print(lst_setosa)\n",
    "print(\"\\n\\n\")\n",
    "print(lst_versicolor)\n",
    "print(\"\\n\\n\")\n",
    "print(lst_virginica)"
   ]
  },
  {
   "cell_type": "code",
   "execution_count": 15,
   "id": "625ca1c5",
   "metadata": {},
   "outputs": [],
   "source": [
    "distance_setosa = []\n",
    "distance_versicolor = []\n",
    "distance_virginica = []\n",
    "distance = []\n",
    "for i in range(50):\n",
    "    dis_1 = (point[0][0] - lst_setosa[i][0])**2 + (point[0][1] - lst_setosa[i][1])**2\n",
    "    dis_2 = (point[0][0] - lst_versicolor[i][0])**2 + (point[0][1] - lst_versicolor[i][1])**2\n",
    "    dis_3 = (point[0][0] - lst_virginica[i][0])**2 + (point[0][1] - lst_virginica[i][1])**2\n",
    "    distance_setosa.append(dis_1)\n",
    "    distance_versicolor.append(dis_2)\n",
    "    distance_virginica.append(dis_3)\n",
    "    distance.append([dis_1,dis_2,dis_3])\n",
    "dis_res = []\n",
    "for i in range(len(distance)):\n",
    "    for j in range(3):\n",
    "        dis_res.append(distance[i][j])"
   ]
  },
  {
   "cell_type": "code",
   "execution_count": 16,
   "id": "6ba2b1a0",
   "metadata": {},
   "outputs": [
    {
     "name": "stdout",
     "output_type": "stream",
     "text": [
      "[3.3999999999999995, 3.700000000000001, 3.7700000000000014, 3.9700000000000015, 4.09, 4.659999999999998, 4.769999999999999, 5.049999999999998, 5.200000000000001, 5.200000000000001, 5.409999999999998, 5.449999999999999, 5.449999999999999, 5.539999999999999, 5.770000000000001, 5.800000000000002, 5.920000000000002, 5.929999999999999, 5.929999999999999, 6.010000000000002, 6.010000000000002, 6.010000000000002, 6.34, 6.41, 6.61, 6.61, 6.739999999999999, 6.769999999999998, 6.89, 6.89, 7.06, 7.06, 7.249999999999997, 7.25, 7.300000000000001, 7.399999999999998, 7.569999999999998, 7.569999999999998, 7.930000000000001, 7.969999999999998, 8.100000000000001, 8.199999999999998, 8.199999999999998, 8.199999999999998, 8.570000000000002, 9.0, 9.01, 9.040000000000001, 9.040000000000001, 9.049999999999999, 9.05, 9.05, 9.09, 9.54, 9.619999999999997, 9.619999999999997, 9.620000000000003, 9.649999999999997, 9.699999999999998, 9.769999999999998, 9.769999999999998, 9.81, 10.100000000000001, 10.100000000000001, 10.240000000000002, 10.250000000000002, 10.280000000000001, 10.280000000000001, 10.330000000000002, 10.400000000000002, 10.889999999999999, 10.899999999999999, 10.899999999999999, 10.899999999999999, 10.899999999999999, 10.929999999999998, 11.56, 11.680000000000001, 11.720000000000002, 11.720000000000002, 11.920000000000002, 12.26, 12.34, 12.41, 12.41, 12.41, 12.849999999999998, 12.89, 12.959999999999997, 12.999999999999996, 12.999999999999996, 13.049999999999997, 13.119999999999997, 13.119999999999997, 13.480000000000004, 13.73, 13.780000000000001, 13.850000000000001, 14.330000000000002, 14.45, 14.45, 14.45, 14.479999999999999, 14.53, 14.53, 14.93, 14.93, 15.079999999999998, 15.220000000000002, 15.250000000000002, 15.250000000000002, 15.300000000000002, 15.460000000000003, 15.570000000000002, 15.570000000000002, 16.04, 16.16, 16.16, 16.16, 16.36, 16.9, 16.97, 17.650000000000002, 17.8, 17.8, 17.89, 17.89, 17.89, 18.13, 18.13, 18.529999999999998, 18.65, 18.849999999999998, 19.610000000000003, 19.610000000000003, 19.610000000000003, 19.720000000000002, 20.61, 21.319999999999997, 22.250000000000004, 22.450000000000003, 23.090000000000003, 23.13, 24.050000000000004, 26.169999999999998, 27.040000000000003, 27.080000000000002, 27.200000000000003, 28.48, 30.6]\n"
     ]
    }
   ],
   "source": [
    "dis_res.sort(reverse=False)\n",
    "print(dis_res)"
   ]
  },
  {
   "cell_type": "code",
   "execution_count": 17,
   "id": "b714c19b",
   "metadata": {},
   "outputs": [
    {
     "name": "stdout",
     "output_type": "stream",
     "text": [
      "Loại hoa Iris-setosa\n"
     ]
    }
   ],
   "source": [
    "temp = dis_res[0]\n",
    "if temp in distance_setosa and temp not in distance_versicolor and temp not in distance_virginica:\n",
    "    print(\"Loại hoa Iris-setosa\")\n",
    "elif temp not in distance_setosa and temp in distance_versicolor and temp not in distance_virginica:\n",
    "    print(\"Loại hoa Iris-versicolor\")\n",
    "elif temp not in distance_setosa and temp not in distance_versicolor and temp in distance_virginica:\n",
    "    print(\"Loại hoa Iris-virginica\")"
   ]
  },
  {
   "cell_type": "markdown",
   "id": "a5d29470",
   "metadata": {},
   "source": [
    "# Chú thích:\n",
    "* distance_setosa: Lần lượt các khoảng cách từ H tới loài hoa setosa\n",
    "* distance_versicolor: Lần lượt các khoảng cách từ H tới loài hoa versicolor\n",
    "* distance_virginica: Lần lượt các khoảng cách từ H tới loài hoa virginica"
   ]
  },
  {
   "cell_type": "code",
   "execution_count": 18,
   "id": "93887c72",
   "metadata": {},
   "outputs": [
    {
     "name": "stdout",
     "output_type": "stream",
     "text": [
      "\t Các khoảng cách lần lượt tới loài hoa setosa:\n",
      "3.3999999999999995\n",
      "\n",
      "\t Các khoảng cách lần lượt tới loài hoa versicolor:\n",
      "5.800000000000002\n",
      "\n",
      "\t Các khoảng cách lần lượt tới loài hoa virginica:\n",
      "5.770000000000001\n"
     ]
    }
   ],
   "source": [
    "print(\"\\t Các khoảng cách lần lượt tới loài hoa setosa:\")\n",
    "print(min(distance_setosa))\n",
    "print(\"\\n\\t Các khoảng cách lần lượt tới loài hoa versicolor:\")\n",
    "print(min(distance_versicolor))\n",
    "print(\"\\n\\t Các khoảng cách lần lượt tới loài hoa virginica:\")\n",
    "print(min(distance_virginica))"
   ]
  },
  {
   "cell_type": "code",
   "execution_count": 19,
   "id": "a50054cd",
   "metadata": {},
   "outputs": [],
   "source": [
    "distance_setosa.sort(reverse=False)\n",
    "distance_versicolor.sort(reverse=False)\n",
    "distance_virginica.sort(reverse=False)"
   ]
  },
  {
   "cell_type": "code",
   "execution_count": 20,
   "id": "1c1fafbc",
   "metadata": {},
   "outputs": [
    {
     "name": "stdout",
     "output_type": "stream",
     "text": [
      "Điểm H gần loài hoa Iris - Setosa\n"
     ]
    }
   ],
   "source": [
    "i = 0\n",
    "while(i < 150):\n",
    "    temp = dis_res[0]\n",
    "    if temp in distance_setosa:\n",
    "        if temp in distance_versicolor:\n",
    "            if temp in distance_virginica:\n",
    "                i = i + 1\n",
    "            else:\n",
    "                i += 1\n",
    "        else:\n",
    "            if temp in distance_versicolor:\n",
    "                i = i + 1\n",
    "            else:\n",
    "                print(\"Điểm H gần loài hoa Iris - Setosa\")\n",
    "                break\n",
    "    else:\n",
    "        if temp in distance_versicolor:\n",
    "            if temp in distance_virginica:\n",
    "                i += 1\n",
    "            else:\n",
    "                print(\"Điểm H thuộc loài hoa Iris - Versicolor\")\n",
    "                break\n",
    "        else:\n",
    "            if temp in distance_virginica:\n",
    "                print(\"Điểm H thuộc loài hoa Iris - Virginica\")\n",
    "                break\n",
    "    if temp in distance_setosa:\n",
    "        print(\"Điểm H thuộc loài hoa Iris - Setosa\")\n",
    "    elif temp in distance_versicolor:\n",
    "        print(\"Điểm H thuộc loài hoa Iris - Versicolor\")\n",
    "    else:\n",
    "        print(\"Điểm H thuộc loài hoa Iris - Virginica\")"
   ]
  },
  {
   "cell_type": "markdown",
   "id": "879c45a1",
   "metadata": {},
   "source": [
    "# Cách xác định thứ 2: 7 điểm gần nó nhất"
   ]
  },
  {
   "cell_type": "code",
   "execution_count": 21,
   "id": "75a08d52",
   "metadata": {},
   "outputs": [],
   "source": [
    "tg = []\n",
    "for i in range(7):\n",
    "    tg.append(dis_res[i])"
   ]
  },
  {
   "cell_type": "code",
   "execution_count": 22,
   "id": "4fdb6bb9",
   "metadata": {},
   "outputs": [],
   "source": [
    "def check(c , a , b):\n",
    "    if c in a:\n",
    "        return 1\n",
    "    return 2"
   ]
  },
  {
   "cell_type": "code",
   "execution_count": 23,
   "id": "363ffd2d",
   "metadata": {},
   "outputs": [
    {
     "name": "stdout",
     "output_type": "stream",
     "text": [
      "Điểm H thuộc loài hoa Iris - Setosa\n"
     ]
    }
   ],
   "source": [
    "num_setosa = 0\n",
    "num_versicolor = 0\n",
    "num_virginica = 0\n",
    "\n",
    "# tìm ra số các class ban đầu\n",
    "for i in tg:\n",
    "    if i in distance_setosa:\n",
    "        num_setosa += 1\n",
    "    elif i in distance_versicolor:\n",
    "        num_versicolor += 1\n",
    "    else:\n",
    "        num_virginica += 1\n",
    "# Tìm ra số class chiếm ưu thế trong 3 class trên      \n",
    "val_max = max(num_setosa , num_virginica , num_versicolor)\n",
    "i = 6\n",
    "while(i < 150):\n",
    "    if num_setosa == val_max and num_virginica == val_max:\n",
    "        i += 1\n",
    "        if(check(dis_res[i],distance_setosa,distance_versicolor) == 1):\n",
    "            num_setosa += 1\n",
    "            break\n",
    "        else:\n",
    "            num_versicolor += 1\n",
    "            break\n",
    "           \n",
    "    elif num_setosa == val_max and num_versicolor == val_max:\n",
    "        i += 1\n",
    "        if(check(dis_res[i],distance_setosa,distance_virginica) == 1):\n",
    "            num_setosa += 1\n",
    "            break\n",
    "        else:\n",
    "            num_virginica += 1\n",
    "            break\n",
    "    elif num_virginica == val_max and num_versicolor == val_max: \n",
    "        i += 1\n",
    "        if(check(dis_res[i],distance_versicolor,distance_virginica) == 1):\n",
    "            num_versicolor += 1\n",
    "            break\n",
    "        else:\n",
    "            num_virginica += 1\n",
    "            break\n",
    "    else:\n",
    "        break\n",
    "val_max_after = max(num_setosa , num_virginica , num_versicolor)       \n",
    "if num_setosa == val_max_after:\n",
    "    print(\"Điểm H thuộc loài hoa Iris - Setosa\")\n",
    "elif num_versicolor == val_max_after:\n",
    "    print(\"Điểm H thuộc loài hoa Iris - Versicolor\")\n",
    "else:\n",
    "    print(\"Điểm H thuộc loài hoa Iris - Virginica\")"
   ]
  },
  {
   "cell_type": "markdown",
   "id": "e83c9fe3",
   "metadata": {},
   "source": [
    "# Cách xác định thứ 3: Dựa vào đường tròn\n",
    "* Trên đường tròn\n",
    "* Trong đường tròn"
   ]
  },
  {
   "cell_type": "code",
   "execution_count": 25,
   "id": "b072da22",
   "metadata": {},
   "outputs": [
    {
     "name": "stdout",
     "output_type": "stream",
     "text": [
      "Điểm H thuộc loài hoa Iris - Setosa\n"
     ]
    }
   ],
   "source": [
    "# Tìm số điểm nằm trên đường tròn: Khoảng cách từ điểm đó tới tâm đường tròn bằng bán kính (2)\n",
    "distance_setosa_circle = []\n",
    "distance_versicolor_circle = []\n",
    "distance_virginica_circle = []\n",
    "\n",
    "for i in range(50):\n",
    "    dis_1 = (point[0][0] - lst_setosa[i][0])**2 + (point[0][1] - lst_setosa[i][1])**2\n",
    "    dis_2 = (point[0][0] - lst_versicolor[i][0])**2 + (point[0][1] - lst_versicolor[i][1])**2\n",
    "    dis_3 = (point[0][0] - lst_virginica[i][0])**2 + (point[0][1] - lst_virginica[i][1])**2\n",
    "    distance_setosa_circle.append(dis_1)\n",
    "    distance_versicolor_circle.append(dis_2)\n",
    "    distance_virginica_circle.append(dis_3)\n",
    "\n",
    "SoDiemNamTren_Setosa = 0\n",
    "SoDiemNamTren_Versicolor = 0\n",
    "SoDiemNamTren_Virginica = 0\n",
    "# Đếm số điểm nằm trong đường trên đường tròn:\n",
    "for i in range(50):\n",
    "    if distance_setosa_circle[i] == 4:\n",
    "        SoDiemNamTren_Setosa += 1\n",
    "    elif distance_versicolor_circle[i] == 4:\n",
    "        SoDiemNamTren_Versicolor += 1\n",
    "    elif distance_virginica_circle[i] == 4:\n",
    "        SoDiemNamTren_Virginica += 1\n",
    "\n",
    "# Tìm số điểm nằm trong\n",
    "SoDiemNamTrong_Setosa = 0\n",
    "SoDiemNamTrong_Versicolor = 0\n",
    "SoDiemNamTrong_Virginica = 0\n",
    "# Tổng khoảng cách tất cả các điểm nằm trong đường tròn tới tâm.\n",
    "sum_of_squares_setosa = 0\n",
    "sum_of_squares_versicolor = 0\n",
    "sum_of_squares_viriginica = 0\n",
    "for i in range(50):\n",
    "    if distance_setosa_circle[i] < 4:\n",
    "        SoDiemNamTrong_Setosa += 1\n",
    "        sum_of_squares_setosa += distance_setosa_circle[i]\n",
    "    elif distance_versicolor_circle[i] < 4:\n",
    "        SoDiemNamTrong_Versicolor += 1\n",
    "        sum_of_squares_versicolor += distance_versicolor_circle[i]\n",
    "    elif distance_virginica_circle[i] < 4:\n",
    "        SoDiemNamTrong_Virginica += 1\n",
    "        sum_of_squares_viriginica += distance_virginica_circle[i]\n",
    "        \n",
    "# Tính tổng số điểm nằm trong và nằm trên đường tròn\n",
    "sum_setosa = SoDiemNamTren_Setosa + SoDiemNamTrong_Setosa\n",
    "sum_versicolor = SoDiemNamTren_Versicolor + SoDiemNamTrong_Versicolor\n",
    "sum_viriginica = SoDiemNamTren_Versicolor + SoDiemNamTrong_Virginica\n",
    "\n",
    "# So sánh xem số lượng điểm nào lớn nhất\n",
    "max_check = max(sum_setosa , sum_versicolor , sum_viriginica)\n",
    "\n",
    "# Tính TBC:\n",
    "avg_setosa = 0\n",
    "avg_versicolor = 0\n",
    "avg_viriginica = 0\n",
    "if(SoDiemNamTrong_Setosa > 0):\n",
    "    avg_setosa = sum_of_squares_setosa / SoDiemNamTrong_Setosa\n",
    "if(SoDiemNamTrong_Versicolor > 0):\n",
    "    avg_versicolor = sum_of_squares_versicolor / SoDiemNamTrong_Versicolor\n",
    "if(SoDiemNamTrong_Virginica > 0):\n",
    "    avg_viriginica = sum_of_squares_viriginica / SoDiemNamTrong_Virginica\n",
    "# nếu cả 3 đại lượng đều bằng max_check thì xét tới điểm nằm trong\n",
    "if sum_setosa == max_check:\n",
    "    if sum_versicolor == max_check:\n",
    "        if sum_viriginica == max_check:\n",
    "            if avg_setosa > 0:\n",
    "                if avg_versicolor > 0:\n",
    "                    if avg_viriginica > 0:\n",
    "                        check_val = max(avg_setosa , avg_versicolor , avg_viriginica)\n",
    "                        if(avg_setosa == check_val):\n",
    "                            print(\"Điểm H thuộc loài hoa Iris - Setosa\")\n",
    "                        elif avg_versicolor == check_val:\n",
    "                            print(\"Điểm H thuộc loài hoa Iris - Versicolor\")\n",
    "                        else:\n",
    "                            print(\"Điểm H thuộc loài hoa Iris - Viriginica\")\n",
    "        else:\n",
    "            if avg_setosa > 0:\n",
    "                if avg_versicolor > 0:\n",
    "                    check_val = max(avg_setosa , avg_versicolor)\n",
    "                    if avg_setosa == check_val:\n",
    "                        print(\"Điểm H thuộc loài hoa Iris - Setosa\")\n",
    "                    else:\n",
    "                        print(\"Điểm H thuộc loài hoa Iris - Vericolor\")\n",
    "    else:\n",
    "        if avg_setosa > 0:\n",
    "            if avg_viriginica > 0:\n",
    "                check_val = max(avg_setosa , avg_viriginica)\n",
    "                if avg_setosa == check_val:\n",
    "                    print(\"Điểm H thuộc loài hoa Iris - Setosa\")\n",
    "                else: print(\"Điểm H thuộc loài hoa Viriginica\")\n",
    "else:\n",
    "    if avg_versicolor > 0:\n",
    "        if avg_viriginica > 0:\n",
    "            check_val = max(avg_versicolor , avg_viriginica)\n",
    "            if(avg_versicolor == check_val):\n",
    "                print(\"Điểm H thuộc loài hoa Versicolor\")\n",
    "            else:\n",
    "                print(\"Điểm H thuộc loài hoa Viriginica\")\n",
    "\n",
    "flag_max = max(avg_setosa , avg_versicolor , avg_viriginica)\n",
    "if avg_setosa == flag_max:\n",
    "    print(\"Điểm H thuộc loài hoa Iris - Setosa\")\n",
    "elif avg_versicolor == flag_max:\n",
    "    print(\"Điểm H thuộc loài hoa Iris - Versicolor\")\n",
    "else:\n",
    "    print(\"Điểm H thuộc loài hoa Iris - Viriginica\")\n",
    "                    "
   ]
  },
  {
   "cell_type": "code",
   "execution_count": null,
   "id": "7e7d68db",
   "metadata": {},
   "outputs": [],
   "source": []
  },
  {
   "cell_type": "code",
   "execution_count": null,
   "id": "36583b0b",
   "metadata": {},
   "outputs": [],
   "source": []
  }
 ],
 "metadata": {
  "kernelspec": {
   "display_name": "Python 3 (ipykernel)",
   "language": "python",
   "name": "python3"
  },
  "language_info": {
   "codemirror_mode": {
    "name": "ipython",
    "version": 3
   },
   "file_extension": ".py",
   "mimetype": "text/x-python",
   "name": "python",
   "nbconvert_exporter": "python",
   "pygments_lexer": "ipython3",
   "version": "3.9.13"
  }
 },
 "nbformat": 4,
 "nbformat_minor": 5
}
